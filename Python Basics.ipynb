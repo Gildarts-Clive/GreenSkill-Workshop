{
 "cells": [
  {
   "cell_type": "code",
   "execution_count": 10,
   "id": "b3903221-0e00-4688-a50a-484f32ca4247",
   "metadata": {},
   "outputs": [
    {
     "name": "stdout",
     "output_type": "stream",
     "text": [
      "City:  City A\n"
     ]
    }
   ],
   "source": [
    "# Create a string variable\n",
    "city_name = 'City A'\n",
    "\n",
    "# Print the value of the string variable\n",
    "print(f\"City: \",city_name)"
   ]
  },
  {
   "cell_type": "code",
   "execution_count": 20,
   "id": "9b750677-32c2-49a3-98d7-1a654b940e15",
   "metadata": {},
   "outputs": [
    {
     "name": "stdin",
     "output_type": "stream",
     "text": [
      "Enter temp:  25\n"
     ]
    },
    {
     "name": "stdout",
     "output_type": "stream",
     "text": [
      "25°C is equal to 77.0°F\n"
     ]
    }
   ],
   "source": [
    "def celsius_to_fahrenheit(celsius):\n",
    "    return (celsius * 9/5) + 32\n",
    "\n",
    "\n",
    "celsius = int(input('Enter temp: '))\n",
    "fahrenheit = celsius_to_fahrenheit(celsius)\n",
    "print(f\"{celsius}°C is equal to {fahrenheit}°F\")\n"
   ]
  },
  {
   "cell_type": "code",
   "execution_count": 22,
   "id": "dbd930e4-97ca-4077-9223-166db0fab09e",
   "metadata": {},
   "outputs": [
    {
     "name": "stdout",
     "output_type": "stream",
     "text": [
      "Carbon footprint:  500.75\n"
     ]
    }
   ],
   "source": [
    "# Create a float var for carbon footprint\n",
    "carbon_footprint = 500.75 # Kg CO2\n",
    "print(f'Carbon footprint: ', carbon_footprint)"
   ]
  },
  {
   "cell_type": "code",
   "execution_count": 28,
   "id": "587dbab8-e3e0-414a-8dde-94bb2c3c4729",
   "metadata": {},
   "outputs": [
    {
     "name": "stdout",
     "output_type": "stream",
     "text": [
      "Is the city sustainable? \n",
      "Ans:  False\n"
     ]
    }
   ],
   "source": [
    "is_sustainable = carbon_footprint < 400\n",
    "\n",
    "print(f'Is the city sustainable? \\nAns: ', is_sustainable)"
   ]
  },
  {
   "cell_type": "code",
   "execution_count": 64,
   "id": "0728fef8-1ed9-432c-8f8d-7a921b1a46bb",
   "metadata": {},
   "outputs": [
    {
     "name": "stdin",
     "output_type": "stream",
     "text": [
      "Enter a number:  5\n"
     ]
    },
    {
     "name": "stdout",
     "output_type": "stream",
     "text": [
      "5 is an integer.\n"
     ]
    }
   ],
   "source": [
    "num = input(\"Enter a number: \")\n",
    "\n",
    "try:\n",
    "    int(num)\n",
    "    if type(int(num)) is int:\n",
    "        print(f\"{num} is an integer.\")\n",
    "except ValueError:\n",
    "    print(f\"{num} is not an integer.\")"
   ]
  },
  {
   "cell_type": "code",
   "execution_count": 66,
   "id": "25deac88-a3de-4886-bd88-1c52c7552b76",
   "metadata": {},
   "outputs": [
    {
     "name": "stdout",
     "output_type": "stream",
     "text": [
      "1 is in the list!\n"
     ]
    }
   ],
   "source": [
    "num = [1,2,3,4,5]\n",
    "\n",
    "if 1 in num:\n",
    "    print(\"1 is in the list!\")\n",
    "else:\n",
    "    print(\"1 is not in the list.\")\n"
   ]
  },
  {
   "cell_type": "code",
   "execution_count": 68,
   "id": "4c6fdb8e-e6be-49de-927f-5142a1aa21dc",
   "metadata": {},
   "outputs": [
    {
     "name": "stdin",
     "output_type": "stream",
     "text": [
      "Choose operation (+, -, *, /):  *\n",
      "Enter num1:  5\n",
      "Enter num2:  2\n"
     ]
    },
    {
     "name": "stdout",
     "output_type": "stream",
     "text": [
      "Result:  10.0\n"
     ]
    }
   ],
   "source": [
    "op = input('Choose operation (+, -, *, /): ')\n",
    "n1 = float(input('Enter num1: '))\n",
    "n2 = float(input('Enter num2: '))\n",
    "result = 0\n",
    "if n2 == 0:\n",
    "    print('Invalid')\n",
    "if op == '+':\n",
    "    result = n1 + n2\n",
    "elif op == '-':\n",
    "    result = n1 - n2\n",
    "elif op == '*':\n",
    "    result = n1 * n2\n",
    "elif op == '/':\n",
    "    result = n1 / n2\n",
    "else:\n",
    "    print('Invalid operation')\n",
    "\n",
    "print(f'Result: ',result)\n"
   ]
  },
  {
   "cell_type": "code",
   "execution_count": 60,
   "id": "a7423b6c-4893-4c67-85ed-c5d7e9e0df4e",
   "metadata": {},
   "outputs": [
    {
     "name": "stdout",
     "output_type": "stream",
     "text": [
      "Cities with high temperature (> 26°C):\n",
      "City B - 30°C\n",
      "City E - 28°C\n"
     ]
    }
   ],
   "source": [
    "# Sample data set\n",
    "climate_data = [\n",
    "    {\"city\": \"City A\", \"temperature\": 25, \"carbon_footprint\": 500},\n",
    "    {\"city\": \"City B\", \"temperature\": 30, \"carbon_footprint\": 350},\n",
    "    {\"city\": \"City C\", \"temperature\": 22, \"carbon_footprint\": 600},\n",
    "    {\"city\": \"City D\", \"temperature\": 15, \"carbon_footprint\": 200},\n",
    "    {\"city\": \"City E\", \"temperature\": 28, \"carbon_footprint\": 450},\n",
    "]\n",
    "\n",
    "high_temp_threshold = 26\n",
    "\n",
    "high_temp_cities = [city for city in climate_data if city['temperature'] > high_temp_threshold]\n",
    "\n",
    "print('Cities with high temperature (> 26°C):')\n",
    "for city in high_temp_cities:\n",
    "    print(f\"{city['city']} - {city['temperature']}°C\")\n"
   ]
  },
  {
   "cell_type": "code",
   "execution_count": 62,
   "id": "50dc3f70-3a54-4b16-930d-c1b351957d18",
   "metadata": {},
   "outputs": [
    {
     "name": "stdout",
     "output_type": "stream",
     "text": [
      "Average carbon footprint: 420.0\n"
     ]
    }
   ],
   "source": [
    "# Calculate the average carbon footprint\n",
    "total_carbon_footprint = sum(city[\"carbon_footprint\"] for city in climate_data)\n",
    "average_carbon_footprint = total_carbon_footprint / len(climate_data)\n",
    "\n",
    "print(f\"Average carbon footprint: {average_carbon_footprint}\")\n"
   ]
  },
  {
   "cell_type": "code",
   "execution_count": 70,
   "id": "762f461b-88c0-4844-8d9a-67cfd6ca8228",
   "metadata": {},
   "outputs": [
    {
     "name": "stdout",
     "output_type": "stream",
     "text": [
      "City with the highest carbon footprint: City C with 600 units\n"
     ]
    }
   ],
   "source": [
    "# Find the city with the highest carbon footprint\n",
    "highest_carbon_city = max(climate_data, key=lambda city: city[\"carbon_footprint\"])\n",
    "\n",
    "print(f\"City with the highest carbon footprint: {highest_carbon_city['city']} with {highest_carbon_city['carbon_footprint']} units\")\n"
   ]
  },
  {
   "cell_type": "code",
   "execution_count": 72,
   "id": "8af027f1-3589-4cbf-b98c-e711cd538c94",
   "metadata": {},
   "outputs": [
    {
     "name": "stdout",
     "output_type": "stream",
     "text": [
      "Carbon footprint: 475.0 kg CO2\n"
     ]
    }
   ],
   "source": [
    "#Example usage:\n",
    "# Function to calculate carbon footprint\n",
    "def calculate_carbon_footprint(energy_consumption, emission_factor):\n",
    "    return energy_consumption * emission_factor\n",
    "\n",
    "# Example usage\n",
    "energy_consumption = 1000  # in kWh\n",
    "emission_factor = 0.475  # in kg CO2 per kWh\n",
    "carbon_footprint = calculate_carbon_footprint(energy_consumption, emission_factor)\n",
    "print(f\"Carbon footprint: {carbon_footprint} kg CO2\")\n",
    "\n"
   ]
  },
  {
   "cell_type": "code",
   "execution_count": 82,
   "id": "917ddcde-c31a-40f4-b2b3-c5d7b76ba32f",
   "metadata": {},
   "outputs": [
    {
     "name": "stdout",
     "output_type": "stream",
     "text": [
      "Sustainable cities:\n",
      "City B - 350 units\n",
      "City D - 200 units\n",
      "\n",
      "Unsustainable cities:\n",
      "City A - 500 units\n",
      "City C - 600 units\n",
      "City E - 450 units\n"
     ]
    }
   ],
   "source": [
    "# Define the sustainability threshold\n",
    "sustainability_threshold = 400\n",
    "\n",
    "# Filter the cities based on the carbon footprint\n",
    "sustainable_cities = [city for city in climate_data if city[\"carbon_footprint\"] < sustainability_threshold]\n",
    "unsustainable_cities = [city for city in climate_data if city[\"carbon_footprint\"] >= sustainability_threshold]\n",
    "\n",
    "print(\"Sustainable cities:\")\n",
    "for city in sustainable_cities:\n",
    "    print(f\"{city['city']} - {city['carbon_footprint']} units\")\n",
    "\n",
    "print(\"\\nUnsustainable cities:\")\n",
    "for city in unsustainable_cities:\n",
    "    print(f\"{city['city']} - {city['carbon_footprint']} units\")\n"
   ]
  },
  {
   "cell_type": "code",
   "execution_count": null,
   "id": "b287149b-f9b9-4d9b-821a-26baa9c996a9",
   "metadata": {},
   "outputs": [],
   "source": []
  }
 ],
 "metadata": {
  "kernelspec": {
   "display_name": "Python 3 (ipykernel)",
   "language": "python",
   "name": "python3"
  },
  "language_info": {
   "codemirror_mode": {
    "name": "ipython",
    "version": 3
   },
   "file_extension": ".py",
   "mimetype": "text/x-python",
   "name": "python",
   "nbconvert_exporter": "python",
   "pygments_lexer": "ipython3",
   "version": "3.12.4"
  }
 },
 "nbformat": 4,
 "nbformat_minor": 5
}
