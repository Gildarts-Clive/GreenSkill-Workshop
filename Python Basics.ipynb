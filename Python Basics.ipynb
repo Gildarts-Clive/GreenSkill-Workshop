{
 "cells": [
  {
   "cell_type": "code",
   "execution_count": 43,
   "id": "b3903221-0e00-4688-a50a-484f32ca4247",
   "metadata": {},
   "outputs": [
    {
     "name": "stdout",
     "output_type": "stream",
     "text": [
      "City:  City A\n"
     ]
    }
   ],
   "source": [
    "# Create a string variable\n",
    "city_name = 'City A'\n",
    "\n",
    "# Print the value of the string variable\n",
    "print(f\"City: \",city_name)"
   ]
  },
  {
   "cell_type": "code",
   "execution_count": 47,
   "id": "9b750677-32c2-49a3-98d7-1a654b940e15",
   "metadata": {},
   "outputs": [
    {
     "name": "stdin",
     "output_type": "stream",
     "text": [
      "Enter temp:  243\n"
     ]
    },
    {
     "name": "stdout",
     "output_type": "stream",
     "text": [
      "243°C is equal to 469.4°F\n"
     ]
    }
   ],
   "source": [
    "def celsius_to_fahrenheit(celsius):\n",
    "    return (celsius * 9/5) + 32\n",
    "\n",
    "\n",
    "celsius = int(input('Enter temp: '))\n",
    "fahrenheit = celsius_to_fahrenheit(celsius)\n",
    "print(f\"{celsius}°C is equal to {fahrenheit}°F\")\n"
   ]
  },
  {
   "cell_type": "code",
   "execution_count": 49,
   "id": "dbd930e4-97ca-4077-9223-166db0fab09e",
   "metadata": {},
   "outputs": [
    {
     "name": "stdout",
     "output_type": "stream",
     "text": [
      "Carbon footprint:  500.75\n"
     ]
    }
   ],
   "source": [
    "# Create a float var for carbon footprint\n",
    "carbon_footprint = 500.75 # Kg CO2\n",
    "print(f'Carbon footprint: ', carbon_footprint)"
   ]
  },
  {
   "cell_type": "code",
   "execution_count": 51,
   "id": "587dbab8-e3e0-414a-8dde-94bb2c3c4729",
   "metadata": {},
   "outputs": [
    {
     "name": "stdout",
     "output_type": "stream",
     "text": [
      "Is the city sustainable? \n",
      "Ans:  False\n"
     ]
    }
   ],
   "source": [
    "is_sustainable = carbon_footprint < 400\n",
    "\n",
    "print(f'Is the city sustainable? \\nAns: ', is_sustainable)"
   ]
  },
  {
   "cell_type": "code",
   "execution_count": 53,
   "id": "0728fef8-1ed9-432c-8f8d-7a921b1a46bb",
   "metadata": {},
   "outputs": [
    {
     "name": "stdin",
     "output_type": "stream",
     "text": [
      "Enter a number:  47\n"
     ]
    },
    {
     "name": "stdout",
     "output_type": "stream",
     "text": [
      "47 is an integer.\n"
     ]
    }
   ],
   "source": [
    "num = input(\"Enter a number: \")\n",
    "\n",
    "try:\n",
    "    int(num)\n",
    "    if type(int(num)) is int:\n",
    "        print(f\"{num} is an integer.\")\n",
    "except ValueError:\n",
    "    print(f\"{num} is not an integer.\")"
   ]
  },
  {
   "cell_type": "code",
   "execution_count": 55,
   "id": "25deac88-a3de-4886-bd88-1c52c7552b76",
   "metadata": {},
   "outputs": [
    {
     "name": "stdout",
     "output_type": "stream",
     "text": [
      "1 is in the list!\n"
     ]
    }
   ],
   "source": [
    "num = [1,2,3,4,5]\n",
    "\n",
    "if 1 in num:\n",
    "    print(\"1 is in the list!\")\n",
    "else:\n",
    "    print(\"1 is not in the list.\")\n"
   ]
  },
  {
   "cell_type": "code",
   "execution_count": 59,
   "id": "4c6fdb8e-e6be-49de-927f-5142a1aa21dc",
   "metadata": {},
   "outputs": [
    {
     "name": "stdin",
     "output_type": "stream",
     "text": [
      "Choose operation (+, -, *, /):  2+2\n",
      "Enter num1:  2\n",
      "Enter num2:  2\n"
     ]
    },
    {
     "name": "stdout",
     "output_type": "stream",
     "text": [
      "Invalid operation\n",
      "Result:  0\n"
     ]
    }
   ],
   "source": [
    "## op = input('Choose operation (+, -, *, /): ')\n",
    "n1 = float(input('Enter num1: '))\n",
    "n2 = float(input('Enter num2: '))\n",
    "result = 0\n",
    "if n2 == 0:\n",
    "    print('Invalid')\n",
    "if op == '+':\n",
    "    result = n1 + n2\n",
    "elif op == '-':\n",
    "    result = n1 - n2\n",
    "elif op == '*':\n",
    "    result = n1 * n2\n",
    "elif op == '/':\n",
    "    result = n1 / n2\n",
    "else:\n",
    "    print('Invalid operation')\n",
    "\n",
    "print(f'Result: ',result)\n"
   ]
  },
  {
   "cell_type": "code",
   "execution_count": 61,
   "id": "a7423b6c-4893-4c67-85ed-c5d7e9e0df4e",
   "metadata": {},
   "outputs": [
    {
     "name": "stdout",
     "output_type": "stream",
     "text": [
      "Cities with high temperature (> 26°C):\n",
      "City B - 30°C\n",
      "City E - 28°C\n"
     ]
    }
   ],
   "source": [
    "# Sample data set\n",
    "climate_data = [\n",
    "    {\"city\": \"City A\", \"temperature\": 25, \"carbon_footprint\": 500},\n",
    "    {\"city\": \"City B\", \"temperature\": 30, \"carbon_footprint\": 350},\n",
    "    {\"city\": \"City C\", \"temperature\": 22, \"carbon_footprint\": 600},\n",
    "    {\"city\": \"City D\", \"temperature\": 15, \"carbon_footprint\": 200},\n",
    "    {\"city\": \"City E\", \"temperature\": 28, \"carbon_footprint\": 450},\n",
    "]\n",
    "\n",
    "high_temp_threshold = 26\n",
    "\n",
    "high_temp_cities = [city for city in climate_data if city['temperature'] > high_temp_threshold]\n",
    "\n",
    "print('Cities with high temperature (> 26°C):')\n",
    "for city in high_temp_cities:\n",
    "    print(f\"{city['city']} - {city['temperature']}°C\")\n"
   ]
  },
  {
   "cell_type": "code",
   "execution_count": 63,
   "id": "50dc3f70-3a54-4b16-930d-c1b351957d18",
   "metadata": {},
   "outputs": [
    {
     "name": "stdout",
     "output_type": "stream",
     "text": [
      "Average carbon footprint: 420.0\n"
     ]
    }
   ],
   "source": [
    "# Calculate the average carbon footprint\n",
    "total_carbon_footprint = sum(city[\"carbon_footprint\"] for city in climate_data)\n",
    "average_carbon_footprint = total_carbon_footprint / len(climate_data)\n",
    "\n",
    "print(f\"Average carbon footprint: {average_carbon_footprint}\")\n"
   ]
  },
  {
   "cell_type": "code",
   "execution_count": 65,
   "id": "762f461b-88c0-4844-8d9a-67cfd6ca8228",
   "metadata": {},
   "outputs": [
    {
     "name": "stdout",
     "output_type": "stream",
     "text": [
      "City with the highest carbon footprint: City C with 600 units\n"
     ]
    }
   ],
   "source": [
    "# Find the city with the highest carbon footprint\n",
    "highest_carbon_city = max(climate_data, key=lambda city: city[\"carbon_footprint\"])\n",
    "\n",
    "print(f\"City with the highest carbon footprint: {highest_carbon_city['city']} with {highest_carbon_city['carbon_footprint']} units\")\n"
   ]
  },
  {
   "cell_type": "code",
   "execution_count": 67,
   "id": "8af027f1-3589-4cbf-b98c-e711cd538c94",
   "metadata": {},
   "outputs": [
    {
     "name": "stdout",
     "output_type": "stream",
     "text": [
      "Carbon footprint: 475.0 kg CO2\n"
     ]
    }
   ],
   "source": [
    "#Example usage:\n",
    "# Function to calculate carbon footprint\n",
    "def calculate_carbon_footprint(energy_consumption, emission_factor):\n",
    "    return energy_consumption * emission_factor\n",
    "\n",
    "# Example usage\n",
    "energy_consumption = 1000  # in kWh\n",
    "emission_factor = 0.475  # in kg CO2 per kWh\n",
    "carbon_footprint = calculate_carbon_footprint(energy_consumption, emission_factor)\n",
    "print(f\"Carbon footprint: {carbon_footprint} kg CO2\")\n",
    "\n"
   ]
  },
  {
   "cell_type": "code",
   "execution_count": 69,
   "id": "917ddcde-c31a-40f4-b2b3-c5d7b76ba32f",
   "metadata": {
    "scrolled": true
   },
   "outputs": [
    {
     "name": "stdout",
     "output_type": "stream",
     "text": [
      "Sustainable cities:\n",
      "City B - 350 units\n",
      "City D - 200 units\n",
      "\n",
      "Unsustainable cities:\n",
      "City A - 500 units\n",
      "City C - 600 units\n",
      "City E - 450 units\n"
     ]
    }
   ],
   "source": [
    "# Define the sustainability threshold\n",
    "sustainability_threshold = 400\n",
    "\n",
    "# Filter the cities based on the carbon footprint\n",
    "sustainable_cities = [city for city in climate_data if city[\"carbon_footprint\"] < sustainability_threshold]\n",
    "unsustainable_cities = [city for city in climate_data if city[\"carbon_footprint\"] >= sustainability_threshold]\n",
    "\n",
    "print(\"Sustainable cities:\")\n",
    "for city in sustainable_cities:\n",
    "    print(f\"{city['city']} - {city['carbon_footprint']} units\")\n",
    "\n",
    "print(\"\\nUnsustainable cities:\")\n",
    "for city in unsustainable_cities:\n",
    "    print(f\"{city['city']} - {city['carbon_footprint']} units\")\n"
   ]
  },
  {
   "cell_type": "code",
   "execution_count": 71,
   "id": "b287149b-f9b9-4d9b-821a-26baa9c996a9",
   "metadata": {},
   "outputs": [
    {
     "name": "stdin",
     "output_type": "stream",
     "text": [
      "Enter a year:  2008\n"
     ]
    },
    {
     "name": "stdout",
     "output_type": "stream",
     "text": [
      "2008 is a leap year.\n"
     ]
    }
   ],
   "source": [
    "#leap year\n",
    "def is_leap_year():\n",
    "    year = int(input(\"Enter a year: \"))\n",
    "    if year % 4 != 0:\n",
    "        print(f\"{year} is not a leap year.\")\n",
    "    elif year % 100 != 0:\n",
    "        print(f\"{year} is a leap year.\")\n",
    "    elif year % 400 != 0:\n",
    "        print(f\"{year} is not a leap year.\")\n",
    "    else:\n",
    "        print(f\"{year} is a leap year.\")\n",
    "\n",
    "is_leap_year()"
   ]
  },
  {
   "cell_type": "code",
   "execution_count": 73,
   "id": "992d8eab-671d-49cf-b74f-663e6760340e",
   "metadata": {},
   "outputs": [],
   "source": [
    "def is_leap_year(year: int) -> bool:\n",
    "    return year % 4 == 0 and (year % 100 != 0 or year % 400 == 0)"
   ]
  },
  {
   "cell_type": "code",
   "execution_count": 75,
   "id": "e6f60d12-c593-4b1f-91ec-9e39f265d662",
   "metadata": {},
   "outputs": [],
   "source": [
    "import pandas as pd"
   ]
  },
  {
   "cell_type": "code",
   "execution_count": 77,
   "id": "bbe76906-1bcc-4a87-8ba3-2be565ba09e4",
   "metadata": {},
   "outputs": [],
   "source": [
    "import pandas as pd\n",
    "\n",
    "renewable_sources = ['Solor', 'Wind','Hydropower', 'Geothermal', 'Biomass']\n",
    "data = {\n",
    "    \"Project\": [\"Solar Farm A\", \"Wind Turbine X\", \"Hydropower Y\", \"Solar Roof Z\", \"Geothermal Plant P\"],\n",
    "    \"Technology\": [\"Solar\", \"Wind\", \"Hydropower\", \"Solar\", \"Geothermal\"],\n",
    "    \"Capacity (MW)\": [150, 300, 200, 50, 100],  # Megawatts\n",
    "    \"Cost (Million $)\": [200, 400, 350, 100, 250],  # Project cost\n",
    "    \"Location\": [\"California\", \"Texas\", \"Washington\", \"Nevada\", \"Idaho\"],\n",
    "    \"Completion Year\": [2023, 2024, 2022, 2025, 2023]\n",
    "}"
   ]
  },
  {
   "cell_type": "code",
   "execution_count": 79,
   "id": "70e4c45b-8075-4d27-8fdb-99b467165ef8",
   "metadata": {},
   "outputs": [
    {
     "name": "stdout",
     "output_type": "stream",
     "text": [
      "          Project  Technology  Capacity (MW)  Cost (Million $)    Location  \\\n",
      "1  Wind Turbine X        Wind            300               400       Texas   \n",
      "2    Hydropower Y  Hydropower            200               350  Washington   \n",
      "\n",
      "   Completion Year  \n",
      "1             2024  \n",
      "2             2022  \n"
     ]
    }
   ],
   "source": [
    "import pandas as pd\n",
    "projects_df = pd.DataFrame(data)\n",
    "selected_rows = projects_df.iloc[[1, 2]]\n",
    "print(selected_rows)"
   ]
  },
  {
   "cell_type": "code",
   "execution_count": 81,
   "id": "18adf9d7-4596-49ce-b0ab-0e297f68359b",
   "metadata": {},
   "outputs": [
    {
     "name": "stdout",
     "output_type": "stream",
     "text": [
      "<class 'pandas.core.frame.DataFrame'>\n",
      "RangeIndex: 5 entries, 0 to 4\n",
      "Data columns (total 6 columns):\n",
      " #   Column            Non-Null Count  Dtype \n",
      "---  ------            --------------  ----- \n",
      " 0   Project           5 non-null      object\n",
      " 1   Technology        5 non-null      object\n",
      " 2   Capacity (MW)     5 non-null      int64 \n",
      " 3   Cost (Million $)  5 non-null      int64 \n",
      " 4   Location          5 non-null      object\n",
      " 5   Completion Year   5 non-null      int64 \n",
      "dtypes: int64(3), object(3)\n",
      "memory usage: 372.0+ bytes\n",
      "None\n"
     ]
    }
   ],
   "source": [
    "info = projects_df.info()\n",
    "print(info)"
   ]
  },
  {
   "cell_type": "code",
   "execution_count": 83,
   "id": "cd964fc0-e809-439f-82f6-5bfc51bf3607",
   "metadata": {},
   "outputs": [
    {
     "name": "stdout",
     "output_type": "stream",
     "text": [
      "       Capacity (MW)  Cost (Million $)  Completion Year\n",
      "count        5.00000          5.000000         5.000000\n",
      "mean       160.00000        260.000000      2023.400000\n",
      "std         96.17692        119.373364         1.140175\n",
      "min         50.00000        100.000000      2022.000000\n",
      "25%        100.00000        200.000000      2023.000000\n",
      "50%        150.00000        250.000000      2023.000000\n",
      "75%        200.00000        350.000000      2024.000000\n",
      "max        300.00000        400.000000      2025.000000\n"
     ]
    }
   ],
   "source": [
    "describe = projects_df.describe()\n",
    "print(describe)"
   ]
  },
  {
   "cell_type": "code",
   "execution_count": 88,
   "id": "329d7073-2a30-408e-8cef-89c4954f1f4d",
   "metadata": {},
   "outputs": [
    {
     "name": "stdout",
     "output_type": "stream",
     "text": [
      "Projects with capacity more than 100MW:\n",
      "          Project  Technology  Capacity (MW)  Cost (Million $)    Location  \\\n",
      "0    Solar Farm A       Solar            150               200  California   \n",
      "1  Wind Turbine X        Wind            300               400       Texas   \n",
      "2    Hydropower Y  Hydropower            200               350  Washington   \n",
      "\n",
      "   Completion Year  \n",
      "0             2023  \n",
      "1             2024  \n",
      "2             2022  \n"
     ]
    }
   ],
   "source": [
    "df = pd.DataFrame(data)\n",
    "# Check whose capacity is more than 100MW\n",
    "more_than_100mw = df[df['Capacity (MW)'] > 100]\n",
    "print(\"Projects with capacity more than 100MW:\")\n",
    "print(more_than_100mw)"
   ]
  },
  {
   "cell_type": "code",
   "execution_count": 94,
   "id": "32e42151-504a-408d-8e3c-06f47a24a56d",
   "metadata": {},
   "outputs": [
    {
     "name": "stdout",
     "output_type": "stream",
     "text": [
      "              Project  Technology  Capacity (MW)  Cost (Million $)  \\\n",
      "0        Solar Farm A       Solar            150               200   \n",
      "1      Wind Turbine X        Wind            300               400   \n",
      "2        Hydropower Y  Hydropower            200               350   \n",
      "3        Solar Roof Z       Solar             50               100   \n",
      "4  Geothermal Plant P  Geothermal            100               250   \n",
      "\n",
      "     Location  Completion Year  Cost per MW ($/MW)  \n",
      "0  California             2023            1.333333  \n",
      "1       Texas             2024            1.333333  \n",
      "2  Washington             2022            1.750000  \n",
      "3      Nevada             2025            2.000000  \n",
      "4       Idaho             2023            2.500000  \n"
     ]
    }
   ],
   "source": [
    "df = pd.DataFrame(data)\n",
    "df['Cost per MW ($/MW)'] = df['Cost (Million $)'] / df['Capacity (MW)']\n",
    "print(df)"
   ]
  },
  {
   "cell_type": "code",
   "execution_count": 97,
   "id": "36175db6-d4e0-4618-879e-5dc9d68fe58c",
   "metadata": {},
   "outputs": [
    {
     "name": "stdout",
     "output_type": "stream",
     "text": [
      "Total Capacity: 800.00 MW\n",
      "Total Cost: $1300.00 Million $\n"
     ]
    }
   ],
   "source": [
    "df = pd.DataFrame(data)\n",
    "\n",
    "# Aggregate the data to find the total capacity and the total cost\n",
    "total_capacity = df['Capacity (MW)'].sum()\n",
    "total_cost = df['Cost (Million $)'].sum()\n",
    "\n",
    "print(\"Total Capacity: {:.2f} MW\".format(total_capacity))\n",
    "print(\"Total Cost: ${:.2f} Million $\".format(total_cost))"
   ]
  },
  {
   "cell_type": "code",
   "execution_count": 101,
   "id": "13c40825-f51e-40bc-adc6-d7e525ad726a",
   "metadata": {},
   "outputs": [
    {
     "name": "stdout",
     "output_type": "stream",
     "text": [
      "Total Capacity by Technology:\n",
      "Technology\n",
      "Geothermal    100\n",
      "Hydropower    200\n",
      "Solar         200\n",
      "Wind          300\n",
      "Name: Capacity (MW), dtype: int64\n"
     ]
    }
   ],
   "source": [
    "df = pd.DataFrame(data)\n",
    "\n",
    "# Group the data by technology type and calculate the total capacity for each type of technology\n",
    "GROUPED_DATA = df.groupby('Technology')['Capacity (MW)'].sum()\n",
    "\n",
    "print(\"Total Capacity by Technology:\")\n",
    "print(GROUPED_DATA)"
   ]
  },
  {
   "cell_type": "code",
   "execution_count": 103,
   "id": "8091e919-a650-455e-b25e-04a8dc9aa5c2",
   "metadata": {},
   "outputs": [],
   "source": [
    "#Exploring Numpy for data manipulation\n",
    "\n",
    "import numpy as np"
   ]
  },
  {
   "cell_type": "code",
   "execution_count": 105,
   "id": "7af841ab-a3b8-4b04-b6d4-7fd3c5e7f700",
   "metadata": {},
   "outputs": [
    {
     "name": "stdout",
     "output_type": "stream",
     "text": [
      "[1 2 3]\n"
     ]
    }
   ],
   "source": [
    "one_d_array = np.array([1,2,3])\n",
    "print(one_d_array)"
   ]
  },
  {
   "cell_type": "code",
   "execution_count": 111,
   "id": "28e168bc-7ebd-4b1d-81c5-b545ff443db1",
   "metadata": {},
   "outputs": [
    {
     "name": "stdout",
     "output_type": "stream",
     "text": [
      "[[1 2]\n",
      " [3 4]]\n"
     ]
    }
   ],
   "source": [
    "two_d_array = np.array([[1,2],[3,4]])\n",
    "print(two_d_array)"
   ]
  },
  {
   "cell_type": "code",
   "execution_count": 121,
   "id": "8af281b6-9a8a-4dd4-a94d-bfeffbe74d51",
   "metadata": {},
   "outputs": [
    {
     "name": "stdout",
     "output_type": "stream",
     "text": [
      "Shape: (2, 3)\n",
      "Dimension: 2\n",
      "Size: 6\n",
      "Data Type: int32\n",
      "Item Size: 4\n"
     ]
    }
   ],
   "source": [
    "array = np.array([[1,2,5],[3,4,6]])\n",
    "# Get information about the array\n",
    "print(\"Shape:\", array.shape)\n",
    "print(\"Dimension:\", array.ndim)\n",
    "print(\"Size:\", array.size)\n",
    "print(\"Data Type:\", array.dtype)\n",
    "print(\"Item Size:\", array.itemsize)"
   ]
  },
  {
   "cell_type": "code",
   "execution_count": 127,
   "id": "ef5d1b1c-b53d-4cf3-9fe2-616a30597308",
   "metadata": {},
   "outputs": [
    {
     "name": "stdout",
     "output_type": "stream",
     "text": [
      "Array of ones:\n",
      "[1. 1. 1.]\n",
      "\n",
      "Array of zeros:\n",
      "[0. 0. 0.]\n",
      "\n",
      "Array of random numbers:\n",
      "[0.25816324 0.34947897 0.5861011 ]\n"
     ]
    }
   ],
   "source": [
    "import numpy as np\n",
    "\n",
    "# Create an array of ones\n",
    "ones_array = np.ones(3)\n",
    "print(\"Array of ones:\")\n",
    "print(ones_array)\n",
    "\n",
    "# Create an array of zeros\n",
    "zeros_array = np.zeros(3)\n",
    "print(\"\\nArray of zeros:\")\n",
    "print(zeros_array)\n",
    "\n",
    "# Create an array of random numbers between 0 and 1\n",
    "random_array = np.random.random(3)\n",
    "print(\"\\nArray of random numbers:\")\n",
    "print(random_array)"
   ]
  },
  {
   "cell_type": "code",
   "execution_count": 131,
   "id": "0d866945-df11-4f75-a87a-976f843bdb19",
   "metadata": {},
   "outputs": [
    {
     "name": "stdout",
     "output_type": "stream",
     "text": [
      "[[10 10 10]\n",
      " [10 10 10]\n",
      " [10 10 10]]\n"
     ]
    }
   ],
   "source": [
    "import numpy as np\n",
    "# Create a 3x3 array filled with the value 10\n",
    "array = np.full((3, 3), 10)\n",
    "print(array)"
   ]
  },
  {
   "cell_type": "code",
   "execution_count": 137,
   "id": "a2781e07-0d7e-4854-be1e-a1d6adacb71c",
   "metadata": {},
   "outputs": [
    {
     "name": "stdout",
     "output_type": "stream",
     "text": [
      "[[1. 0. 0.]\n",
      " [0. 1. 0.]\n",
      " [0. 0. 1.]]\n"
     ]
    }
   ],
   "source": [
    "import numpy as np\n",
    "# Create a 3x3 identity matrix\n",
    "identity_matrix = np.identity(3)\n",
    "print(identity_matrix)"
   ]
  },
  {
   "cell_type": "code",
   "execution_count": 139,
   "id": "86f2538e-1613-472b-a6c3-35e86d1bc4d7",
   "metadata": {},
   "outputs": [
    {
     "ename": "TypeError",
     "evalue": "array() takes from 1 to 2 positional arguments but 3 were given",
     "output_type": "error",
     "traceback": [
      "\u001b[1;31m---------------------------------------------------------------------------\u001b[0m",
      "\u001b[1;31mTypeError\u001b[0m                                 Traceback (most recent call last)",
      "Cell \u001b[1;32mIn[139], line 1\u001b[0m\n\u001b[1;32m----> 1\u001b[0m array1 \u001b[38;5;241m=\u001b[39m np\u001b[38;5;241m.\u001b[39marray(\u001b[38;5;241m0\u001b[39m,\u001b[38;5;241m10\u001b[39m,\u001b[38;5;241m2\u001b[39m)\n\u001b[0;32m      2\u001b[0m \u001b[38;5;28mprint\u001b[39m(array1)\n",
      "\u001b[1;31mTypeError\u001b[0m: array() takes from 1 to 2 positional arguments but 3 were given"
     ]
    }
   ],
   "source": [
    "array1 = np.array(0,10,2)\n",
    "print(array1)"
   ]
  },
  {
   "cell_type": "code",
   "execution_count": 143,
   "id": "2703e331-bdf9-4787-aef5-b3371319198a",
   "metadata": {},
   "outputs": [
    {
     "name": "stdout",
     "output_type": "stream",
     "text": [
      "[ 5.   7.5 10. ]\n"
     ]
    }
   ],
   "source": [
    "import numpy as np\n",
    "# Create an array of evenly spaced values from 0 to 10\n",
    "array = np.linspace(5,10,3)\n",
    "print(array)"
   ]
  },
  {
   "cell_type": "code",
   "execution_count": 147,
   "id": "23ad4eb2-1396-4e63-8a8d-9cfd2037c1b3",
   "metadata": {},
   "outputs": [
    {
     "name": "stdout",
     "output_type": "stream",
     "text": [
      "(array([2. , 2.2, 2.4, 2.6, 2.8, 3. ]), 0.2)\n"
     ]
    }
   ],
   "source": [
    "import numpy as np\n",
    "\n",
    "# Create an array of evenly spaced values from 2.0 to 3.0\n",
    "array = np.linspace(2.0, 3.0, 6, endpoint=True, retstep=True)\n",
    "print(array)"
   ]
  },
  {
   "cell_type": "code",
   "execution_count": 149,
   "id": "2a804450-c0cf-482b-91b2-635ee28cc873",
   "metadata": {},
   "outputs": [
    {
     "name": "stdout",
     "output_type": "stream",
     "text": [
      "[11 22 33 44 55 66 77 88 99]\n",
      "[11]\n",
      "[11 22]\n",
      "[11 22 33 44 55 66 77 88]\n"
     ]
    }
   ],
   "source": [
    "num_data = np.array([11,22,33,44,55,66,77,88,99])\n",
    "print(num_data[:])\n",
    "\n",
    "print(num_data[:1])\n",
    "print(num_data[:2])\n",
    "print(num_data[:-1])"
   ]
  },
  {
   "cell_type": "code",
   "execution_count": 151,
   "id": "ade54c43-ba0c-4c98-bd28-4b0f33e662cf",
   "metadata": {},
   "outputs": [
    {
     "name": "stdout",
     "output_type": "stream",
     "text": [
      "Is 12321 a palindrome? True\n"
     ]
    }
   ],
   "source": [
    "def is_palindrome(num):\n",
    "    num_str = str(num)\n",
    "    for i in range(len(num_str) // 2):\n",
    "        if num_str[i] != num_str[-i - 1]:\n",
    "            return False\n",
    "    return True\n",
    "\n",
    "# Test the function\n",
    "num = 12321\n",
    "print(f\"Is {num} a palindrome? {is_palindrome(num)}\")"
   ]
  },
  {
   "cell_type": "code",
   "execution_count": 159,
   "id": "a680f352-6998-431a-891b-7c5b2f49c1c0",
   "metadata": {},
   "outputs": [
    {
     "name": "stdin",
     "output_type": "stream",
     "text": [
      "Enter a number:  123321\n"
     ]
    },
    {
     "name": "stdout",
     "output_type": "stream",
     "text": [
      "123321 is a palindrome.\n"
     ]
    }
   ],
   "source": [
    "def is_palindrome(num):\n",
    "    num_str = str(num)\n",
    "    return num_str == num_str[::-1]\n",
    "# Get the input from the user\n",
    "while True:\n",
    "    num = input(\"Enter a number: \")\n",
    "    try:\n",
    "        num = int(num)\n",
    "        break\n",
    "    except ValueError:\n",
    "        print(\"Invalid input. Please enter a valid integer.\")\n",
    "# Check if the input is a palindrome\n",
    "if is_palindrome(num):\n",
    "    print(f\"{num} is a palindrome.\")\n",
    "else:\n",
    "    print(f\"{num} is not a palindrome.\")"
   ]
  },
  {
   "cell_type": "code",
   "execution_count": 167,
   "id": "0974fb99-cdb6-48d6-a6f0-b17d5f4aae63",
   "metadata": {},
   "outputs": [
    {
     "name": "stdout",
     "output_type": "stream",
     "text": [
      "[[1 2 3 4 5 6 7 8 9]]\n",
      "[[1 2 3]\n",
      " [4 5 6]\n",
      " [7 8 9]]\n"
     ]
    }
   ],
   "source": [
    "import numpy as np\n",
    "\n",
    "arr = np.array([1, 2, 3, 4, 5, 6, 7, 8, 9])\n",
    "print(arr.reshape(1, 9))\n",
    "print(arr.reshape(3, 3))"
   ]
  },
  {
   "cell_type": "code",
   "execution_count": 175,
   "id": "851aa9a7-6bc9-4ab3-9d12-d2635e92cba8",
   "metadata": {},
   "outputs": [
    {
     "name": "stdout",
     "output_type": "stream",
     "text": [
      "Original array:\n",
      "[[1 2 3]\n",
      " [4 5 6]\n",
      " [7 8 9]]\n",
      "\n",
      "Transposed array:\n",
      "[[1 4 7]\n",
      " [2 5 8]\n",
      " [3 6 9]]\n"
     ]
    }
   ],
   "source": [
    "import numpy as np\n",
    "\n",
    "# Create a 2D array\n",
    "arr = np.array([[1, 2, 3], [4, 5, 6], [7, 8, 9]])\n",
    "print(\"Original array:\")\n",
    "print(arr)\n",
    "# Transpose the array using the np.transpose function\n",
    "transposed_arr = np.transpose(arr)\n",
    "print(\"\\nTransposed array:\")\n",
    "print(transposed_arr)"
   ]
  },
  {
   "cell_type": "code",
   "execution_count": 181,
   "id": "1f825726-0c48-4dbe-a270-f39a6c243ae6",
   "metadata": {},
   "outputs": [
    {
     "name": "stdout",
     "output_type": "stream",
     "text": [
      "[1 2 3 4 5 6]\n"
     ]
    }
   ],
   "source": [
    "import numpy as np\n",
    "myarray = np.array([[1,2,3],[4,5,6]])\n",
    "print(myarray.flatten())"
   ]
  },
  {
   "cell_type": "code",
   "execution_count": 191,
   "id": "485f2661-0bff-4e33-bece-18be086f3698",
   "metadata": {},
   "outputs": [
    {
     "name": "stdout",
     "output_type": "stream",
     "text": [
      "Mean energy consumption (kWh): 2360.0\n",
      "Median energy consumption (kWh): 2500.0\n",
      "Standard deviation of energy consumption (kWh): 781.2809993849844\n",
      "Variance of energy consumption (kWh): 610400.0\n"
     ]
    }
   ],
   "source": [
    "# Create an array for energy consumption (in kWh)\n",
    "energy_consumption = np.array([1200, 3400, 2900, 1800, 2500])\n",
    "\n",
    "# Calculate the mean\n",
    "mean_consumption = np.mean(energy_consumption)\n",
    "print(\"Mean energy consumption (kWh):\", mean_consumption)\n",
    "\n",
    "# Calculate the median\n",
    "median_consumption = np.median(energy_consumption)\n",
    "print(\"Median energy consumption (kWh):\", median_consumption)\n",
    "\n",
    "# Calculate the standard deviation\n",
    "std_dev_consumption = np.std(energy_consumption)\n",
    "print(\"Standard deviation of energy consumption (kWh):\", std_dev_consumption)\n",
    "\n",
    "# Calculate the variance\n",
    "variance_consumption = np.var(energy_consumption)\n",
    "print(\"Variance of energy consumption (kWh):\", variance_consumption)"
   ]
  },
  {
   "cell_type": "code",
   "execution_count": 193,
   "id": "53b5b5b5-f634-4c0b-89e1-86945af0d605",
   "metadata": {},
   "outputs": [
    {
     "name": "stdout",
     "output_type": "stream",
     "text": [
      "[[1200]\n",
      " [3400]\n",
      " [2900]\n",
      " [1800]\n",
      " [2500]]\n"
     ]
    }
   ],
   "source": [
    "print(energy_consumption.reshape(5,1))"
   ]
  },
  {
   "cell_type": "code",
   "execution_count": null,
   "id": "65e3ada5-d365-4e07-8909-cdc880259484",
   "metadata": {},
   "outputs": [],
   "source": []
  }
 ],
 "metadata": {
  "kernelspec": {
   "display_name": "Python 3 (ipykernel)",
   "language": "python",
   "name": "python3"
  },
  "language_info": {
   "codemirror_mode": {
    "name": "ipython",
    "version": 3
   },
   "file_extension": ".py",
   "mimetype": "text/x-python",
   "name": "python",
   "nbconvert_exporter": "python",
   "pygments_lexer": "ipython3",
   "version": "3.12.7"
  }
 },
 "nbformat": 4,
 "nbformat_minor": 5
}
