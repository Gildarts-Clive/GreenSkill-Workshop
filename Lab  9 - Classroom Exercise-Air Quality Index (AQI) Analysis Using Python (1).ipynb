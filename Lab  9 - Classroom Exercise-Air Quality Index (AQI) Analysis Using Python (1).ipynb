{
 "cells": [
  {
   "cell_type": "markdown",
   "id": "5c5f33f7",
   "metadata": {},
   "source": [
    "<span style=\"color:black;font-size: 30px; font-family: Arial; font-weight: bold;\">EDUNET FOUNDATION-Classroom Exercise Notebook</span>"
   ]
  },
  {
   "cell_type": "markdown",
   "id": "8fbee611",
   "metadata": {},
   "source": [
    "<span style=\"color:black;font-size: 30px; font-family: Arial; font-weight: bold;\"> Lab 9- Air Quality Index Analysis Using Python </span>"
   ]
  },
  {
   "cell_type": "markdown",
   "id": "9288f669",
   "metadata": {},
   "source": [
    "### OpenWeatherMap"
   ]
  },
  {
   "cell_type": "markdown",
   "id": "4a457687",
   "metadata": {},
   "source": [
    "OpenWeatherMap is a popular platform that provides weather data, including current weather, forecasts, and historical data, to the public via various APIs. It offers a wide range of services that are useful for individuals, businesses, and developers who need reliable weather information. Key services are given below:\n",
    "- Current Weather Data\n",
    "- Weather Forecasts\n",
    "- Historical Weather Data\n",
    "- Air Pollution Data\n"
   ]
  },
  {
   "cell_type": "markdown",
   "id": "d5a51f0b",
   "metadata": {},
   "source": [
    "Here's a step-by-step guide on how to create an account on OpenWeatherMap and obtain your API key:"
   ]
  },
  {
   "cell_type": "markdown",
   "id": "8b321661",
   "metadata": {},
   "source": [
    "- Go to OpenWeatherMap.\n",
    "- Click on the \"Sign Up\" button on the top right corner of the page.\n",
    "- Fill in your details (email, password, etc.) and create your account.\n",
    "- Once your account is created, log in to your account.\n",
    "- After logging in, go to the API keys section.\n",
    "- Click on the \"Generate\" button to create a new API key.\n",
    "- Copy the generated API key."
   ]
  },
  {
   "cell_type": "markdown",
   "id": "97e1389c",
   "metadata": {},
   "source": [
    "### Step 1: Import Necessary Libraries"
   ]
  },
  {
   "cell_type": "code",
   "execution_count": 20,
   "id": "8ab67d5f",
   "metadata": {},
   "outputs": [],
   "source": [
    "import requests\n",
    "import pandas as pd\n",
    "import matplotlib.pyplot as plt\n",
    "import datetime"
   ]
  },
  {
   "cell_type": "markdown",
   "id": "31a6e772",
   "metadata": {},
   "source": [
    "### Step 2: Fetch AQI Data"
   ]
  },
  {
   "cell_type": "code",
   "execution_count": 43,
   "id": "ed985eb6",
   "metadata": {},
   "outputs": [],
   "source": [
    "API_KEY = 'cc9b7f2df7e94473964dc6550b0d16fd'\n",
    "CITY = 'Nagpur'  # You can replace this with any city you are interested in"
   ]
  },
  {
   "cell_type": "code",
   "execution_count": 47,
   "id": "07c14be3",
   "metadata": {},
   "outputs": [
    {
     "ename": "NameError",
     "evalue": "name 'api_key' is not defined",
     "output_type": "error",
     "traceback": [
      "\u001b[1;31m---------------------------------------------------------------------------\u001b[0m",
      "\u001b[1;31mNameError\u001b[0m                                 Traceback (most recent call last)",
      "Cell \u001b[1;32mIn[47], line 22\u001b[0m\n\u001b[0;32m     19\u001b[0m start_time \u001b[38;5;241m=\u001b[39m end_time \u001b[38;5;241m-\u001b[39m (\u001b[38;5;241m7\u001b[39m \u001b[38;5;241m*\u001b[39m \u001b[38;5;241m24\u001b[39m \u001b[38;5;241m*\u001b[39m \u001b[38;5;241m60\u001b[39m \u001b[38;5;241m*\u001b[39m \u001b[38;5;241m60\u001b[39m)  \u001b[38;5;66;03m# 7 days ago\u001b[39;00m\n\u001b[0;32m     21\u001b[0m \u001b[38;5;66;03m# Fetch AQI data\u001b[39;00m\n\u001b[1;32m---> 22\u001b[0m aqi_data \u001b[38;5;241m=\u001b[39m fetch_aqi_data(api_key, city, start_time, end_time)\n",
      "\u001b[1;31mNameError\u001b[0m: name 'api_key' is not defined"
     ]
    }
   ],
   "source": [
    "def fetch_aqi_data(api_key, city, start, end):\n",
    "    # Get latitude and longitude for the city\n",
    "    geo_url = f'http://api.openweathermap.org/geo/1.0/direct?q={city}&limit=1&appid={api_key}'\n",
    "    geo_response = requests.get(geo_url)\n",
    "    geo_data = geo_response.json()\n",
    "    if len(geo_data) == 0:\n",
    "        raise ValueError(f\"City {city} not found\")\n",
    "    \n",
    "    lat = geo_data[0]['lat']\n",
    "    lon = geo_data[0]['lon']\n",
    "    \n",
    "    url = f'http://api.openweathermap.org/data/2.5/air_pollution/history?lat={lat}&lon={lon}&start={start}&end={end}&appid={api_key}'\n",
    "    response = requests.get(url)\n",
    "    data = response.json()\n",
    "    return data\n",
    "\n",
    "# Define the start and end timestamps for historical data (example: last 7 days)\n",
    "end_time = int(datetime.datetime.now().timestamp())\n",
    "start_time = end_time - (7 * 24 * 60 * 60)  # 7 days ago\n",
    "\n",
    "# Fetch AQI data\n",
    "aqi_data = fetch_aqi_data(api_key, city, start_time, end_time)"
   ]
  },
  {
   "cell_type": "code",
   "execution_count": 49,
   "id": "500272e0",
   "metadata": {},
   "outputs": [
    {
     "ename": "NameError",
     "evalue": "name 'aqi_data' is not defined",
     "output_type": "error",
     "traceback": [
      "\u001b[1;31m---------------------------------------------------------------------------\u001b[0m",
      "\u001b[1;31mNameError\u001b[0m                                 Traceback (most recent call last)",
      "Cell \u001b[1;32mIn[49], line 1\u001b[0m\n\u001b[1;32m----> 1\u001b[0m aqi_data\n",
      "\u001b[1;31mNameError\u001b[0m: name 'aqi_data' is not defined"
     ]
    }
   ],
   "source": [
    "aqi_data"
   ]
  },
  {
   "cell_type": "markdown",
   "id": "87122cb2",
   "metadata": {},
   "source": [
    "### Step 3: Process and Analyze the Data"
   ]
  },
  {
   "cell_type": "code",
   "execution_count": 30,
   "id": "2c5c3235",
   "metadata": {},
   "outputs": [
    {
     "ename": "NameError",
     "evalue": "name 'aqi_data' is not defined",
     "output_type": "error",
     "traceback": [
      "\u001b[1;31m---------------------------------------------------------------------------\u001b[0m",
      "\u001b[1;31mNameError\u001b[0m                                 Traceback (most recent call last)",
      "Cell \u001b[1;32mIn[30], line 16\u001b[0m\n\u001b[0;32m     13\u001b[0m         records\u001b[38;5;241m.\u001b[39mappend(record)\n\u001b[0;32m     14\u001b[0m     \u001b[38;5;28;01mreturn\u001b[39;00m pd\u001b[38;5;241m.\u001b[39mDataFrame(records)\n\u001b[1;32m---> 16\u001b[0m aqi_df \u001b[38;5;241m=\u001b[39m process_aqi_data(aqi_data)\n\u001b[0;32m     18\u001b[0m \u001b[38;5;66;03m# Plot AQI over time\u001b[39;00m\n\u001b[0;32m     19\u001b[0m plt\u001b[38;5;241m.\u001b[39mfigure(figsize\u001b[38;5;241m=\u001b[39m(\u001b[38;5;241m12\u001b[39m, \u001b[38;5;241m6\u001b[39m))\n",
      "\u001b[1;31mNameError\u001b[0m: name 'aqi_data' is not defined"
     ]
    }
   ],
   "source": [
    "# Extract relevant data\n",
    "def process_aqi_data(data):\n",
    "    records = []\n",
    "    for item in data['list']:\n",
    "        dt = datetime.datetime.fromtimestamp(item['dt'])\n",
    "        aqi = item['main']['aqi']\n",
    "        components = item['components']\n",
    "        record = {\n",
    "            'datetime': dt,\n",
    "            'aqi': aqi,\n",
    "            **components\n",
    "        }\n",
    "        records.append(record)\n",
    "    return pd.DataFrame(records)\n",
    "\n",
    "aqi_df = process_aqi_data(aqi_data)\n",
    "\n",
    "# Plot AQI over time\n",
    "plt.figure(figsize=(12, 6))\n",
    "plt.plot(aqi_df['datetime'], aqi_df['aqi'], marker='o', linestyle='-')\n",
    "plt.title(f'Air Quality Index (AQI) in {CITY}')\n",
    "plt.xlabel('Date')\n",
    "plt.ylabel('AQI')\n",
    "plt.grid(True)\n",
    "plt.show()"
   ]
  },
  {
   "cell_type": "markdown",
   "id": "d2f219f6",
   "metadata": {},
   "source": [
    "### Step 4: Visualize the Data"
   ]
  },
  {
   "cell_type": "code",
   "execution_count": 33,
   "id": "c64e6409",
   "metadata": {},
   "outputs": [
    {
     "ename": "NameError",
     "evalue": "name 'aqi_df' is not defined",
     "output_type": "error",
     "traceback": [
      "\u001b[1;31m---------------------------------------------------------------------------\u001b[0m",
      "\u001b[1;31mNameError\u001b[0m                                 Traceback (most recent call last)",
      "Cell \u001b[1;32mIn[33], line 5\u001b[0m\n\u001b[0;32m      3\u001b[0m \u001b[38;5;28;01mfor\u001b[39;00m component \u001b[38;5;129;01min\u001b[39;00m components:\n\u001b[0;32m      4\u001b[0m     plt\u001b[38;5;241m.\u001b[39mfigure(figsize\u001b[38;5;241m=\u001b[39m(\u001b[38;5;241m12\u001b[39m, \u001b[38;5;241m6\u001b[39m))\n\u001b[1;32m----> 5\u001b[0m     plt\u001b[38;5;241m.\u001b[39mplot(aqi_df[\u001b[38;5;124m'\u001b[39m\u001b[38;5;124mdatetime\u001b[39m\u001b[38;5;124m'\u001b[39m], aqi_df[component], marker\u001b[38;5;241m=\u001b[39m\u001b[38;5;124m'\u001b[39m\u001b[38;5;124mo\u001b[39m\u001b[38;5;124m'\u001b[39m, linestyle\u001b[38;5;241m=\u001b[39m\u001b[38;5;124m'\u001b[39m\u001b[38;5;124m-\u001b[39m\u001b[38;5;124m'\u001b[39m)\n\u001b[0;32m      6\u001b[0m     plt\u001b[38;5;241m.\u001b[39mtitle(\u001b[38;5;124mf\u001b[39m\u001b[38;5;124m'\u001b[39m\u001b[38;5;132;01m{\u001b[39;00mcomponent\u001b[38;5;241m.\u001b[39mupper()\u001b[38;5;132;01m}\u001b[39;00m\u001b[38;5;124m Levels in \u001b[39m\u001b[38;5;132;01m{\u001b[39;00mCITY\u001b[38;5;132;01m}\u001b[39;00m\u001b[38;5;124m'\u001b[39m)\n\u001b[0;32m      7\u001b[0m     plt\u001b[38;5;241m.\u001b[39mxlabel(\u001b[38;5;124m'\u001b[39m\u001b[38;5;124mDate\u001b[39m\u001b[38;5;124m'\u001b[39m)\n",
      "\u001b[1;31mNameError\u001b[0m: name 'aqi_df' is not defined"
     ]
    },
    {
     "data": {
      "text/plain": [
       "<Figure size 1200x600 with 0 Axes>"
      ]
     },
     "metadata": {},
     "output_type": "display_data"
    }
   ],
   "source": [
    "# Plot individual components\n",
    "components = ['pm2_5', 'pm10', 'no2', 'so2', 'o3', 'co']\n",
    "for component in components:\n",
    "    plt.figure(figsize=(12, 6))\n",
    "    plt.plot(aqi_df['datetime'], aqi_df[component], marker='o', linestyle='-')\n",
    "    plt.title(f'{component.upper()} Levels in {CITY}')\n",
    "    plt.xlabel('Date')\n",
    "    plt.ylabel(f'{component.upper()} (µg/m³)')\n",
    "    plt.grid(True)\n",
    "    plt.show()"
   ]
  },
  {
   "cell_type": "code",
   "execution_count": 35,
   "id": "5001be8b",
   "metadata": {},
   "outputs": [
    {
     "ename": "NameError",
     "evalue": "name 'aqi_df' is not defined",
     "output_type": "error",
     "traceback": [
      "\u001b[1;31m---------------------------------------------------------------------------\u001b[0m",
      "\u001b[1;31mNameError\u001b[0m                                 Traceback (most recent call last)",
      "Cell \u001b[1;32mIn[35], line 4\u001b[0m\n\u001b[0;32m      2\u001b[0m plt\u001b[38;5;241m.\u001b[39mfigure(figsize\u001b[38;5;241m=\u001b[39m(\u001b[38;5;241m12\u001b[39m, \u001b[38;5;241m6\u001b[39m))\n\u001b[0;32m      3\u001b[0m \u001b[38;5;28;01mfor\u001b[39;00m component \u001b[38;5;129;01min\u001b[39;00m components:\n\u001b[1;32m----> 4\u001b[0m     plt\u001b[38;5;241m.\u001b[39mplot(aqi_df[\u001b[38;5;124m'\u001b[39m\u001b[38;5;124mdatetime\u001b[39m\u001b[38;5;124m'\u001b[39m], aqi_df[component], marker\u001b[38;5;241m=\u001b[39m\u001b[38;5;124m'\u001b[39m\u001b[38;5;124mo\u001b[39m\u001b[38;5;124m'\u001b[39m, linestyle\u001b[38;5;241m=\u001b[39m\u001b[38;5;124m'\u001b[39m\u001b[38;5;124m-\u001b[39m\u001b[38;5;124m'\u001b[39m, label\u001b[38;5;241m=\u001b[39mcomponent\u001b[38;5;241m.\u001b[39mupper())\n\u001b[0;32m      5\u001b[0m plt\u001b[38;5;241m.\u001b[39mtitle(\u001b[38;5;124mf\u001b[39m\u001b[38;5;124m'\u001b[39m\u001b[38;5;124mPollutant Levels in \u001b[39m\u001b[38;5;132;01m{\u001b[39;00mCITY\u001b[38;5;132;01m}\u001b[39;00m\u001b[38;5;124m'\u001b[39m)\n\u001b[0;32m      6\u001b[0m plt\u001b[38;5;241m.\u001b[39mxlabel(\u001b[38;5;124m'\u001b[39m\u001b[38;5;124mDate\u001b[39m\u001b[38;5;124m'\u001b[39m)\n",
      "\u001b[1;31mNameError\u001b[0m: name 'aqi_df' is not defined"
     ]
    },
    {
     "data": {
      "text/plain": [
       "<Figure size 1200x600 with 0 Axes>"
      ]
     },
     "metadata": {},
     "output_type": "display_data"
    }
   ],
   "source": [
    "# Plotting multiple components in a single plot for comparison\n",
    "plt.figure(figsize=(12, 6))\n",
    "for component in components:\n",
    "    plt.plot(aqi_df['datetime'], aqi_df[component], marker='o', linestyle='-', label=component.upper())\n",
    "plt.title(f'Pollutant Levels in {CITY}')\n",
    "plt.xlabel('Date')\n",
    "plt.ylabel('Concentration (µg/m³)')\n",
    "plt.legend()\n",
    "plt.grid(True)\n",
    "plt.show()"
   ]
  },
  {
   "cell_type": "code",
   "execution_count": 37,
   "id": "753f8688",
   "metadata": {},
   "outputs": [
    {
     "ename": "NameError",
     "evalue": "name 'aqi_df' is not defined",
     "output_type": "error",
     "traceback": [
      "\u001b[1;31m---------------------------------------------------------------------------\u001b[0m",
      "\u001b[1;31mNameError\u001b[0m                                 Traceback (most recent call last)",
      "Cell \u001b[1;32mIn[37], line 4\u001b[0m\n\u001b[0;32m      2\u001b[0m plt\u001b[38;5;241m.\u001b[39mfigure(figsize\u001b[38;5;241m=\u001b[39m(\u001b[38;5;241m12\u001b[39m, \u001b[38;5;241m6\u001b[39m))\n\u001b[0;32m      3\u001b[0m \u001b[38;5;28;01mfor\u001b[39;00m component \u001b[38;5;129;01min\u001b[39;00m components:\n\u001b[1;32m----> 4\u001b[0m     plt\u001b[38;5;241m.\u001b[39mscatter(aqi_df[component], aqi_df[\u001b[38;5;124m'\u001b[39m\u001b[38;5;124maqi\u001b[39m\u001b[38;5;124m'\u001b[39m], label\u001b[38;5;241m=\u001b[39mcomponent\u001b[38;5;241m.\u001b[39mupper())\n\u001b[0;32m      5\u001b[0m plt\u001b[38;5;241m.\u001b[39mtitle(\u001b[38;5;124mf\u001b[39m\u001b[38;5;124m'\u001b[39m\u001b[38;5;124mAQI vs Pollutant Levels in \u001b[39m\u001b[38;5;132;01m{\u001b[39;00mCITY\u001b[38;5;132;01m}\u001b[39;00m\u001b[38;5;124m'\u001b[39m)\n\u001b[0;32m      6\u001b[0m plt\u001b[38;5;241m.\u001b[39mxlabel(\u001b[38;5;124m'\u001b[39m\u001b[38;5;124mPollutant Level (µg/m³)\u001b[39m\u001b[38;5;124m'\u001b[39m)\n",
      "\u001b[1;31mNameError\u001b[0m: name 'aqi_df' is not defined"
     ]
    },
    {
     "data": {
      "text/plain": [
       "<Figure size 1200x600 with 0 Axes>"
      ]
     },
     "metadata": {},
     "output_type": "display_data"
    }
   ],
   "source": [
    "# Scatter plot for AQI vs individual components\n",
    "plt.figure(figsize=(12, 6))\n",
    "for component in components:\n",
    "    plt.scatter(aqi_df[component], aqi_df['aqi'], label=component.upper())\n",
    "plt.title(f'AQI vs Pollutant Levels in {CITY}')\n",
    "plt.xlabel('Pollutant Level (µg/m³)')\n",
    "plt.ylabel('AQI')\n",
    "plt.legend()\n",
    "plt.grid(True)\n",
    "plt.show()"
   ]
  },
  {
   "cell_type": "code",
   "execution_count": null,
   "id": "120e9278-6b56-4353-aac2-ff28f03317c0",
   "metadata": {},
   "outputs": [],
   "source": []
  },
  {
   "cell_type": "code",
   "execution_count": null,
   "id": "ce24520d-b587-4af0-a1dd-c0c78ed826c6",
   "metadata": {},
   "outputs": [],
   "source": []
  },
  {
   "cell_type": "code",
   "execution_count": null,
   "id": "4225368a-4bd7-4012-975b-1eb2d2632b42",
   "metadata": {},
   "outputs": [],
   "source": []
  },
  {
   "cell_type": "code",
   "execution_count": null,
   "id": "dac58965-b003-4712-82ad-e563ecb3ecaf",
   "metadata": {},
   "outputs": [],
   "source": []
  },
  {
   "cell_type": "code",
   "execution_count": null,
   "id": "3d036d9c-1c0b-4b42-8421-a77289a391b1",
   "metadata": {},
   "outputs": [],
   "source": []
  }
 ],
 "metadata": {
  "kernelspec": {
   "display_name": "Python 3 (ipykernel)",
   "language": "python",
   "name": "python3"
  },
  "language_info": {
   "codemirror_mode": {
    "name": "ipython",
    "version": 3
   },
   "file_extension": ".py",
   "mimetype": "text/x-python",
   "name": "python",
   "nbconvert_exporter": "python",
   "pygments_lexer": "ipython3",
   "version": "3.12.7"
  }
 },
 "nbformat": 4,
 "nbformat_minor": 5
}
